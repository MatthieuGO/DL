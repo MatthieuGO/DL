{
 "cells": [
  {
   "cell_type": "code",
   "execution_count": 69,
   "metadata": {},
   "outputs": [],
   "source": [
    "import torch\n",
    "from torch import Tensor\n",
    "from torch.nn import *\n",
    "from torch.optim import Adam\n",
    "from torchvision import datasets, transforms\n",
    "import torchvision.utils as vutils\n",
    "from torch.nn.functional import interpolate, avg_pool2d\n",
    "import numpy as np\n",
    "from random import random\n",
    "from typing import Any, Dict, Optional\n",
    "import matplotlib.pyplot as plt\n",
    "import pickle"
   ]
  },
  {
   "cell_type": "code",
   "execution_count": 103,
   "metadata": {},
   "outputs": [],
   "source": [
    "def save_loss(tab_of_loss, path=\"./\"):\n",
    "    with open(path+\"tab_of_loss\", \"wb\") as floss:\n",
    "        pickle.dump(tab_of_loss, floss)"
   ]
  },
  {
   "cell_type": "code",
   "execution_count": 96,
   "metadata": {},
   "outputs": [
    {
     "data": {
      "text/plain": [
       "'real_batch = next(iter(dataloader))\\nplt.figure(figsize=(8,8))\\nplt.axis(\"off\")\\nplt.title(\"Training Images\")\\nplt.imshow(np.transpose(vutils.make_grid(real_batch[0].to(\"cpu\")[:64], padding=2, normalize=True).cpu(),(1,2,0)))'"
      ]
     },
     "execution_count": 96,
     "metadata": {},
     "output_type": "execute_result"
    }
   ],
   "source": [
    "dataroot = \"/home/goliot/project/deep_learning_project/img_align_celeba\"\n",
    "\n",
    "batch_size = 20\n",
    "image_size = 128\n",
    "dataset = datasets.ImageFolder(root=dataroot,\n",
    "                           transform=transforms.Compose([\n",
    "                               transforms.Resize(image_size),\n",
    "                               transforms.CenterCrop(image_size),\n",
    "                               transforms.ToTensor(),\n",
    "                               transforms.Normalize((0.5, 0.5, 0.5), (0.5, 0.5, 0.5)),\n",
    "                           ]))\n",
    "\n",
    "dataloader = torch.utils.data.DataLoader(dataset, batch_size=batch_size,\n",
    "                                         shuffle=True)\n",
    "\n",
    "\"\"\"real_batch = next(iter(dataloader))\n",
    "plt.figure(figsize=(8,8))\n",
    "plt.axis(\"off\")\n",
    "plt.title(\"Training Images\")\n",
    "plt.imshow(np.transpose(vutils.make_grid(real_batch[0].to(\"cpu\")[:64], padding=2, normalize=True).cpu(),(1,2,0)))\"\"\""
   ]
  },
  {
   "cell_type": "code",
   "execution_count": 41,
   "metadata": {},
   "outputs": [
    {
     "name": "stdout",
     "output_type": "stream",
     "text": [
      "256\n"
     ]
    }
   ],
   "source": [
    "def nf(\n",
    "    stage: int,\n",
    "    fmap_base: int = 16 << 10,\n",
    "    fmap_decay: float = 1.0,\n",
    "    fmap_min: int = 1,\n",
    "    fmap_max: int = 512,\n",
    ") -> int:\n",
    "    \"\"\"\n",
    "    computes the number of fmaps present in each stage\n",
    "    Args:\n",
    "        stage: stage level\n",
    "        fmap_base: base number of fmaps\n",
    "        fmap_decay: decay rate for the fmaps in the network\n",
    "        fmap_min: minimum number of fmaps\n",
    "        fmap_max: maximum number of fmaps\n",
    "    Returns: number of fmaps that should be present there\n",
    "    \"\"\"\n",
    "    return int(\n",
    "        np.clip(\n",
    "            int(fmap_base / (2.0 ** (stage * fmap_decay))), fmap_min, fmap_max,\n",
    "        ).item()\n",
    "    )\n"
   ]
  },
  {
   "cell_type": "markdown",
   "metadata": {},
   "source": [
    "## Pixel Wise Norm"
   ]
  },
  {
   "cell_type": "code",
   "execution_count": 42,
   "metadata": {},
   "outputs": [],
   "source": [
    "class PixelwiseNorm(Module):\n",
    "    \"\"\"\n",
    "    ------------------------------------------------------------------------------------\n",
    "    Pixelwise feature vector normalization.\n",
    "    reference:\n",
    "    https://github.com/tkarras/progressive_growing_of_gans/blob/master/networks.py#L120\n",
    "    ------------------------------------------------------------------------------------\n",
    "    \"\"\"\n",
    "\n",
    "    def __init__(self):\n",
    "        super(PixelwiseNorm, self).__init__()\n",
    "\n",
    "    @staticmethod\n",
    "    def forward(x: Tensor, alpha: float = 1e-8) -> Tensor:\n",
    "        y = x.pow(2.0).mean(dim=1, keepdim=True).add(alpha).sqrt()  # [N1HW]\n",
    "        y = x / y  # normalize the input x volume\n",
    "        return y"
   ]
  },
  {
   "cell_type": "markdown",
   "metadata": {},
   "source": [
    "## Equalized Conv Transpose 2d"
   ]
  },
  {
   "cell_type": "code",
   "execution_count": 43,
   "metadata": {},
   "outputs": [],
   "source": [
    "class EqualizedConvTranspose2d(ConvTranspose2d):\n",
    "    def __init__(\n",
    "        self,\n",
    "        in_channels,\n",
    "        out_channels,\n",
    "        kernel_size,\n",
    "        stride=1,\n",
    "        padding=0,\n",
    "        output_padding=0,\n",
    "        groups=1,\n",
    "        bias=True,\n",
    "        dilation=1,\n",
    "        padding_mode=\"zeros\",\n",
    "    ) -> None:\n",
    "        super().__init__(\n",
    "            in_channels,\n",
    "            out_channels,\n",
    "            kernel_size,\n",
    "            stride,\n",
    "            padding,\n",
    "            output_padding,\n",
    "            groups,\n",
    "            bias,\n",
    "            dilation,\n",
    "            padding_mode,\n",
    "        )\n",
    "        # make sure that the self.weight and self.bias are initialized according to\n",
    "        # random normal distribution\n",
    "        torch.nn.init.normal_(self.weight)\n",
    "        if bias:\n",
    "            torch.nn.init.zeros_(self.bias)\n",
    "\n",
    "        # define the scale for the weights:\n",
    "        fan_in = self.in_channels\n",
    "        self.scale = np.sqrt(2) / np.sqrt(fan_in)\n",
    "\n",
    "    def forward(self, x: Tensor, output_size: Any = None) -> Tensor:\n",
    "        output_padding = self._output_padding(\n",
    "            input, output_size, self.stride, self.padding, self.kernel_size\n",
    "        )\n",
    "        return torch.conv_transpose2d(\n",
    "            input=x,\n",
    "            weight=self.weight * self.scale,  # scale the weight on runtime\n",
    "            bias=self.bias,\n",
    "            stride=self.stride,\n",
    "            padding=self.padding,\n",
    "            output_padding=output_padding,\n",
    "            groups=self.groups,\n",
    "            dilation=self.dilation,\n",
    "        )"
   ]
  },
  {
   "cell_type": "markdown",
   "metadata": {},
   "source": [
    "## Equalized Conv 2d"
   ]
  },
  {
   "cell_type": "code",
   "execution_count": 44,
   "metadata": {},
   "outputs": [],
   "source": [
    "\n",
    "class EqualizedConv2d(Conv2d):\n",
    "    def __init__(\n",
    "        self,\n",
    "        in_channels,\n",
    "        out_channels,\n",
    "        kernel_size,\n",
    "        stride=1,\n",
    "        padding=0,\n",
    "        dilation=1,\n",
    "        groups=1,\n",
    "        bias=True,\n",
    "        padding_mode=\"zeros\",\n",
    "    ) -> None:\n",
    "        super().__init__(\n",
    "            in_channels,\n",
    "            out_channels,\n",
    "            kernel_size,\n",
    "            stride,\n",
    "            padding,\n",
    "            dilation,\n",
    "            groups,\n",
    "            bias,\n",
    "            padding_mode,\n",
    "        )\n",
    "        # make sure that the self.weight and self.bias are initialized according to\n",
    "        # random normal distribution\n",
    "        torch.nn.init.normal_(self.weight)\n",
    "        if bias:\n",
    "            torch.nn.init.zeros_(self.bias)\n",
    "\n",
    "        # define the scale for the weights:\n",
    "        fan_in = np.prod(self.kernel_size) * self.in_channels\n",
    "        self.scale = np.sqrt(2) / np.sqrt(fan_in)\n",
    "\n",
    "    def forward(self, x: Tensor) -> Tensor:\n",
    "        return torch.conv2d(\n",
    "            input=x,\n",
    "            weight=self.weight * self.scale,  # scale the weight on runtime\n",
    "            bias=self.bias,\n",
    "            stride=self.stride,\n",
    "            padding=self.padding,\n",
    "            dilation=self.dilation,\n",
    "            groups=self.groups,\n",
    "        )"
   ]
  },
  {
   "cell_type": "markdown",
   "metadata": {},
   "source": [
    "## Generator Initial Block"
   ]
  },
  {
   "cell_type": "code",
   "execution_count": 45,
   "metadata": {},
   "outputs": [],
   "source": [
    "class GenInitialBlock(Module):\n",
    "    \"\"\"\n",
    "    Module implementing the initial block of the input\n",
    "    Args:\n",
    "        in_channels: number of input channels to the block\n",
    "        out_channels: number of output channels of the block\n",
    "        use_eql: whether to use equalized learning rate\n",
    "    \"\"\"\n",
    "\n",
    "    def __init__(self, in_channels: int, out_channels: int, use_eql: bool) -> None:\n",
    "        super(GenInitialBlock, self).__init__()\n",
    "        self.use_eql = use_eql\n",
    "\n",
    "        ConvBlock = EqualizedConv2d if use_eql else Conv2d\n",
    "        ConvTransposeBlock = EqualizedConvTranspose2d if use_eql else ConvTranspose2d\n",
    "\n",
    "        self.conv_1 = ConvTransposeBlock(in_channels, out_channels, (4, 4), bias=True)\n",
    "        self.conv_2 = ConvBlock(\n",
    "            out_channels, out_channels, (3, 3), padding=1, bias=True\n",
    "        )\n",
    "        self.pixNorm = PixelwiseNorm()\n",
    "        self.lrelu = LeakyReLU(0.2)\n",
    "\n",
    "    def forward(self, x: Tensor) -> Tensor:\n",
    "        y = torch.unsqueeze(torch.unsqueeze(x, -1), -1)\n",
    "        y = self.pixNorm(y)  # normalize the latents to hypersphere\n",
    "        y = self.lrelu(self.conv_1(y))\n",
    "        y = self.lrelu(self.conv_2(y))\n",
    "        y = self.pixNorm(y)\n",
    "        return y"
   ]
  },
  {
   "cell_type": "markdown",
   "metadata": {},
   "source": [
    "## Genrator General Block"
   ]
  },
  {
   "cell_type": "code",
   "execution_count": 46,
   "metadata": {},
   "outputs": [],
   "source": [
    "class GenGeneralConvBlock(Module):\n",
    "    \"\"\"\n",
    "    Module implementing a general convolutional block\n",
    "    Args:\n",
    "        in_channels: number of input channels to the block\n",
    "        out_channels: number of output channels required\n",
    "        use_eql: whether to use equalized learning rate\n",
    "    \"\"\"\n",
    "\n",
    "    def __init__(self, in_channels: int, out_channels: int, use_eql: bool) -> None:\n",
    "        super(GenGeneralConvBlock, self).__init__()\n",
    "        self.in_channels = in_channels\n",
    "        self.out_channels = in_channels\n",
    "        self.use_eql = use_eql\n",
    "\n",
    "        ConvBlock = EqualizedConv2d if use_eql else Conv2d\n",
    "\n",
    "        self.conv_1 = ConvBlock(in_channels, out_channels, (3, 3), padding=1, bias=True)\n",
    "        self.conv_2 = ConvBlock(\n",
    "            out_channels, out_channels, (3, 3), padding=1, bias=True\n",
    "        )\n",
    "        self.pixNorm = PixelwiseNorm()\n",
    "        self.lrelu = LeakyReLU(0.2)\n",
    "\n",
    "    def forward(self, x: Tensor) -> Tensor:\n",
    "        y = interpolate(x, scale_factor=2)\n",
    "        y = self.pixNorm(self.lrelu(self.conv_1(y)))\n",
    "        y = self.pixNorm(self.lrelu(self.conv_2(y)))\n",
    "\n",
    "        return y"
   ]
  },
  {
   "cell_type": "markdown",
   "metadata": {},
   "source": [
    "## Discriminator Final block"
   ]
  },
  {
   "cell_type": "code",
   "execution_count": 47,
   "metadata": {},
   "outputs": [],
   "source": [
    "class DisFinalBlock(torch.nn.Module):\n",
    "    \"\"\"\n",
    "    Final block for the Discriminator\n",
    "    Args:\n",
    "        in_channels: number of input channels\n",
    "        use_eql: whether to use equalized learning rate\n",
    "    \"\"\"\n",
    "\n",
    "    def __init__(self, in_channels: int, out_channels: int, use_eql: bool) -> None:\n",
    "        super(DisFinalBlock, self).__init__()\n",
    "        self.in_channels = in_channels\n",
    "        self.out_channels = out_channels\n",
    "        self.use_eql = use_eql\n",
    "\n",
    "        ConvBlock = EqualizedConv2d if use_eql else Conv2d\n",
    "\n",
    "        self.conv_1 = ConvBlock(\n",
    "            in_channels + 1, in_channels, (3, 3), padding=1, bias=True\n",
    "        )\n",
    "        # (16 - 3 + 2 / 1) + 1 = 16\n",
    "        self.conv_2 = ConvBlock(in_channels, out_channels, (4, 4), bias=True)\n",
    "        # (16 - 4 / 1) + 1 = 13\n",
    "        self.conv_3 = ConvBlock(out_channels, 1, (1, 1), bias=True)\n",
    "        self.batch_discriminator = MinibatchStdDev()\n",
    "        self.lrelu = LeakyReLU(0.2)\n",
    "\n",
    "    def forward(self, x: Tensor) -> Tensor:\n",
    "        y = self.batch_discriminator(x)\n",
    "        y = self.lrelu(self.conv_1(y))\n",
    "        y = self.lrelu(self.conv_2(y))\n",
    "        y = self.conv_3(y)\n",
    "        return y.view(20, -1)"
   ]
  },
  {
   "cell_type": "markdown",
   "metadata": {},
   "source": [
    "## Discriminator General Conv Block"
   ]
  },
  {
   "cell_type": "code",
   "execution_count": 48,
   "metadata": {},
   "outputs": [],
   "source": [
    "class DisGeneralConvBlock(Module):\n",
    "    \"\"\"\n",
    "    General block in the discriminator\n",
    "    Args:\n",
    "        in_channels: number of input channels\n",
    "        out_channels: number of output channels\n",
    "        use_eql: whether to use equalized learning rate\n",
    "    \"\"\"\n",
    "\n",
    "    def __init__(self, in_channels: int, out_channels: int, use_eql: bool) -> None:\n",
    "        super(DisGeneralConvBlock, self).__init__()\n",
    "        self.in_channels = in_channels\n",
    "        self.out_channels = out_channels\n",
    "        self.use_eql = use_eql\n",
    "\n",
    "        ConvBlock = EqualizedConv2d if use_eql else Conv2d\n",
    "\n",
    "        self.conv_1 = ConvBlock(in_channels, in_channels, (3, 3), padding=1, bias=True)\n",
    "        self.conv_2 = ConvBlock(in_channels, out_channels, (3, 3), padding=1, bias=True)\n",
    "        self.downSampler = AvgPool2d(2)\n",
    "        self.lrelu = LeakyReLU(0.2)\n",
    "\n",
    "    def forward(self, x: Tensor) -> Tensor:\n",
    "        y = self.lrelu(self.conv_1(x))\n",
    "        y = self.lrelu(self.conv_2(y))\n",
    "        y = self.downSampler(y)\n",
    "        return y"
   ]
  },
  {
   "cell_type": "markdown",
   "metadata": {},
   "source": [
    "## Minibatch Standart deviation"
   ]
  },
  {
   "cell_type": "code",
   "execution_count": 49,
   "metadata": {},
   "outputs": [],
   "source": [
    "class MinibatchStdDev(torch.nn.Module):\n",
    "    \"\"\"\n",
    "    Minibatch standard deviation layer for the discriminator\n",
    "    Args:\n",
    "        group_size: Size of each group into which the batch is split\n",
    "    \"\"\"\n",
    "\n",
    "    def __init__(self, group_size: int = 4) -> None:\n",
    "        \"\"\"\n",
    "        Args:\n",
    "            group_size: Size of each group into which the batch is split\n",
    "        \"\"\"\n",
    "        super(MinibatchStdDev, self).__init__()\n",
    "        self.group_size = group_size\n",
    "\n",
    "    def extra_repr(self) -> str:\n",
    "        return f\"group_size={self.group_size}\"\n",
    "\n",
    "    def forward(self, x: Tensor, alpha: float = 1e-8) -> Tensor:\n",
    "        \"\"\"\n",
    "        forward pass of the layer\n",
    "        Args:\n",
    "            x: input activation volume\n",
    "            alpha: small number for numerical stability\n",
    "        Returns: y => x appended with standard deviation constant map\n",
    "        \"\"\"\n",
    "        batch_size, channels, height, width = x.shape\n",
    "        if batch_size > self.group_size:\n",
    "            assert batch_size % self.group_size == 0, (\n",
    "                f\"batch_size {batch_size} should be \"\n",
    "                f\"perfectly divisible by group_size {self.group_size}\"\n",
    "            )\n",
    "            group_size = self.group_size\n",
    "        else:\n",
    "            group_size = batch_size\n",
    "\n",
    "        # reshape x into a more amenable sized tensor\n",
    "        y = torch.reshape(x, [group_size, -1, channels, height, width])\n",
    "\n",
    "        # indicated shapes are after performing the operation\n",
    "        # [G x M x C x H x W] Subtract mean over groups\n",
    "        y = y - y.mean(dim=0, keepdim=True)\n",
    "\n",
    "        # [M x C x H x W] Calc standard deviation over the groups\n",
    "        y = torch.sqrt(y.square().mean(dim=0, keepdim=False) + alpha)\n",
    "\n",
    "        # [M x 1 x 1 x 1]  Take average over feature_maps and pixels.\n",
    "        y = y.mean(dim=[1, 2, 3], keepdim=True)\n",
    "\n",
    "        # [B x 1 x H x W]  Replicate over group and pixels\n",
    "        y = y.repeat(group_size, 1, height, width)\n",
    "\n",
    "        # [B x (C + 1) x H x W]  Append as new feature_map.\n",
    "        y = torch.cat([x, y], 1)\n",
    "\n",
    "        # return the computed values:\n",
    "        return y"
   ]
  },
  {
   "cell_type": "markdown",
   "metadata": {},
   "source": [
    "## Split image"
   ]
  },
  {
   "cell_type": "code",
   "execution_count": 50,
   "metadata": {},
   "outputs": [],
   "source": [
    "def split_image(x, i, n):\n",
    "    hw = x.shape[3] + 1\n",
    "    assert ((hw - 1) - n) % i == 0 and (hw - 1) > n, \"Error\"\n",
    "    new_img = []\n",
    "    x = x.numpy()\n",
    "    for image in x:\n",
    "        for line in range(0, hw - n, 1):\n",
    "            for stride in range(0, hw - n, i):\n",
    "                new_img.append(image[:, line:line + n, stride:stride + n])\n",
    "    new_img = np.array(new_img)\n",
    "    return torch.from_numpy(new_img)"
   ]
  },
  {
   "cell_type": "markdown",
   "metadata": {},
   "source": [
    "## Generator"
   ]
  },
  {
   "cell_type": "code",
   "execution_count": 51,
   "metadata": {},
   "outputs": [],
   "source": [
    "class Generator(Module):\n",
    "    def __init__(self, in_channels, out_channels, use_eql):\n",
    "        super().__init__()\n",
    "\n",
    "        ConvBlock = EqualizedConv2d if use_eql else Conv2d\n",
    "        self.gen_block = ModuleList([GenGeneralConvBlock(nf(8), nf(9), use_eql)])\n",
    "\n",
    "        self.rgb_converters = ModuleList(\n",
    "            [\n",
    "                ConvBlock(nf(9), 3, kernel_size=(1, 1))\n",
    "            ]\n",
    "        )\n",
    "\n",
    "    def forward(self, x):\n",
    "        for layer in self.gen_block:\n",
    "            x = layer(x)\n",
    "        x = self.rgb_converters[0](x)\n",
    "        return x"
   ]
  },
  {
   "cell_type": "code",
   "execution_count": 52,
   "metadata": {
    "scrolled": true
   },
   "outputs": [],
   "source": [
    "def addGenBlock(generator, depth):\n",
    "    for param in generator.gen_block[0].parameters():\n",
    "        param.requires_grad = False\n",
    "    generator.gen_block.insert(0, GenGeneralConvBlock(nf(depth), nf(depth+1), False))\n",
    "    \"\"\"i = 0\n",
    "    for block in model.gen_block:\n",
    "        print(f\"Block {i} : \")\n",
    "        i += 1\n",
    "        for param in block.parameters():\n",
    "            print(f\"Requires grad : {param.requires_grad}\")\n",
    "        print(\"\\n\")\"\"\""
   ]
  },
  {
   "cell_type": "markdown",
   "metadata": {},
   "source": [
    "## Discriminator"
   ]
  },
  {
   "cell_type": "code",
   "execution_count": 53,
   "metadata": {
    "scrolled": true
   },
   "outputs": [],
   "source": [
    "class Discriminator(Module):\n",
    "    def __init__(self, latent_size=512, depth=7, use_eql=False):\n",
    "        super().__init__()\n",
    "        self.latent_size = latent_size\n",
    "        self.dis_block = ModuleList([DisFinalBlock(nf(1), latent_size, use_eql)])\n",
    "\n",
    "        ConvBlock = EqualizedConv2d if use_eql else Conv2d\n",
    "\n",
    "        self.from_rgb = ModuleList(\n",
    "            reversed(\n",
    "                [\n",
    "                    ConvBlock(3, latent_size, kernel_size=(1, 1))\n",
    "                ]\n",
    "            )\n",
    "        )\n",
    "\n",
    "    def forward(self, x):\n",
    "        x = self.from_rgb[0](x)\n",
    "        for layer in self.dis_block:\n",
    "            x = layer(x)\n",
    "        return x\n"
   ]
  },
  {
   "cell_type": "markdown",
   "metadata": {},
   "source": [
    "## Add Discriminator Block"
   ]
  },
  {
   "cell_type": "code",
   "execution_count": 54,
   "metadata": {
    "scrolled": true
   },
   "outputs": [],
   "source": [
    "def addDisBlock(discriminator, depth):\n",
    "    for param in discriminator.dis_block[0].parameters():\n",
    "        param.requires_grad = False\n",
    "    discriminator.dis_block.insert(0, DisGeneralConvBlock(nf(depth), nf(depth+1), False))"
   ]
  },
  {
   "cell_type": "markdown",
   "metadata": {},
   "source": [
    "## Create DCGAN class"
   ]
  },
  {
   "cell_type": "code",
   "execution_count": 104,
   "metadata": {},
   "outputs": [],
   "source": [
    "class DCGAN():\n",
    "    def __init__(self, noise_fn, dataloader, device, batch_size=20, lr_g=1e-3, lr_d=2e-4, depth=7):\n",
    "        self.dataloader = dataloader\n",
    "        self.device = device\n",
    "        self.generator = Generator(1, 3, False).to(device)\n",
    "        self.discriminator = Discriminator().to(device)\n",
    "        self.noise_fn = noise_fn\n",
    "        self.batch_size = batch_size\n",
    "\n",
    "        self.criterion = BCEWithLogitsLoss()\n",
    "        self.g_optimizer = Adam(self.generator.parameters(), lr=lr_g, betas=(0.5, 0.999))\n",
    "        self.d_optimizer = Adam(self.discriminator.parameters(), lr=lr_d, betas=(0.5, 0.999))\n",
    "\n",
    "        self.target_ones = torch.ones(batch_size, 1)\n",
    "        self.target_zeros = torch.zeros(batch_size, 1)\n",
    "\n",
    "    def create_sample(self):\n",
    "        latent_vec = self.noise_fn(self.batch_size)\n",
    "        with torch.no_grad():\n",
    "            samples = self.generator(latent_vec)\n",
    "        samples = samples.cpu()\n",
    "        return samples\n",
    "\n",
    "    def train_step_generator(self):\n",
    "        self.generator.zero_grad()\n",
    "        latent_vec = self.noise_fn(self.batch_size)\n",
    "        fake_sample = self.generator(latent_vec)\n",
    "        prediction = self.discriminator(fake_sample)\n",
    "        loss = self.criterion(prediction, self.target_ones)\n",
    "        loss.backward()\n",
    "        self.g_optimizer.step()\n",
    "\n",
    "        return loss.item()\n",
    "\n",
    "    def train_step_discriminator(self, real_sample):\n",
    "        #self.discriminator.zero_grad()\n",
    "        pred_real = self.discriminator(real_sample)\n",
    "        loss_real = self.criterion(pred_real, self.target_ones)\n",
    "        latent_vec = self.noise_fn(self.batch_size)\n",
    "        with torch.no_grad():\n",
    "            fake_sample = self.generator(latent_vec)\n",
    "        fake_pred = self.discriminator(fake_sample)\n",
    "        loss_fake = self.criterion(fake_pred, self.target_zeros)\n",
    "\n",
    "        loss = (loss_real + loss_fake) / 2\n",
    "        self.d_optimizer.zero_grad()\n",
    "        loss.backward()\n",
    "        self.d_optimizer.step()\n",
    "\n",
    "        return loss_real.item(), loss_fake.item()\n",
    "\n",
    "    def train_gan(self, stride, kernel_size, epoch_train_d):\n",
    "        loss_g_running, loss_d_real_running, loss_d_fake_running = 0, 0, 0\n",
    "        array_loss = [[], [], []]\n",
    "        for batch_i, (image, _) in enumerate(self.dataloader):\n",
    "            image = split_image(image, stride, kernel_size)\n",
    "            dataloader_split = torch.utils.data.DataLoader(image, batch_size=batch_size,\n",
    "                                                           shuffle=True)\n",
    "            for batch_si, image in enumerate(dataloader_split):\n",
    "                image = image.to(self.device)\n",
    "                for i in range(epoch_train_d):\n",
    "                    ldr, ldf = self.train_step_discriminator(image)\n",
    "                    loss_d_fake_running += ldf\n",
    "                    loss_d_real_running += ldr\n",
    "                loss_g_running += self.train_step_generator()\n",
    "                break\n",
    "            break\n",
    "            if batch_i % 100 == 99:\n",
    "                array_loss[0].append(loss_g_running/((batch_i+1)*(batch_si+1)))\n",
    "                array_loss[1].append(loss_d_real_running/((batch_i+1)*((batch_si+1)*epoch_train_d)))\n",
    "                array_loss[2].append(loss_d_fake_running/((batch_i+1)*((batch_si+1)*epoch_train_d)))\n",
    "        return np.array(array_loss)\n"
   ]
  },
  {
   "cell_type": "markdown",
   "metadata": {},
   "source": [
    "## Main Function"
   ]
  },
  {
   "cell_type": "code",
   "execution_count": 105,
   "metadata": {},
   "outputs": [],
   "source": [
    "def main(dataloader, ngpu=0, path=\"./\"):\n",
    "    batch_size = 20\n",
    "    epochs = 1\n",
    "    device = torch.device(\"cuda:0\" if (torch.cuda.is_available() and ngpu > 0) else \"cpu\")\n",
    "    latent_size = 4\n",
    "    noise_fn = lambda x: torch.randn(x, 64, 2, 2)\n",
    "    gan = DCGAN(noise_fn=noise_fn, dataloader=dataloader, device=device, batch_size=batch_size)\n",
    "    tab_loss = []\n",
    "    for i in range(epochs):\n",
    "        loss = (gan.train_gan(2, 4, 5))\n",
    "        tab_loss.append(loss)\n",
    "    gan.generator.to(\"cpu\")\n",
    "    gan.discriminator.to(\"cpu\")\n",
    "    torch.save({\n",
    "        \"generator\":gan.generator.state_dict(),\n",
    "        \"discriminator\":gan.discriminator.state_dict()\n",
    "    }, (path +\"gen_disc.pth\"))\n",
    "    save_loss(tab_loss)\n",
    "    return loss\n"
   ]
  },
  {
   "cell_type": "code",
   "execution_count": 106,
   "metadata": {},
   "outputs": [],
   "source": [
    "loss = main(dataloader)"
   ]
  },
  {
   "cell_type": "code",
   "execution_count": 109,
   "metadata": {
    "scrolled": true
   },
   "outputs": [
    {
     "data": {
      "image/png": "[encoded data removed]",
      "text/plain": [
       "<Figure size 864x576 with 1 Axes>"
      ]
     },
     "metadata": {
      "needs_background": "light"
     },
     "output_type": "display_data"
    }
   ],
   "source": [
    "def display_loss(loss):\n",
    "    fix, axe = plt.subplots(figsize=(12, 8))\n",
    "    plt.plot(loss[0], label=\"Generator\", alpha=0.5)\n",
    "    plt.plot(loss[1], label=\"Discriminator fake\", alpha=0.8)\n",
    "    plt.plot(loss[2],  label=\"Discriminator real\")\n",
    "    plt.title(\"Training loss\")\n",
    "    axe.set_ylabel(\"Loss\")\n",
    "    axe.set_xlabel(\"Epoch\")\n",
    "    plt.legend()\n",
    "display_loss(loss)"
   ]
  },
  {
   "cell_type": "code",
   "execution_count": null,
   "metadata": {},
   "outputs": [],
   "source": []
  }
 ],
 "metadata": {
  "kernelspec": {
   "display_name": "Python 3",
   "language": "python",
   "name": "python3"
  },
  "language_info": {
   "codemirror_mode": {
    "name": "ipython",
    "version": 3
   },
   "file_extension": ".py",
   "mimetype": "text/x-python",
   "name": "python",
   "nbconvert_exporter": "python",
   "pygments_lexer": "ipython3",
   "version": "3.8.5"
  }
 },
 "nbformat": 4,
 "nbformat_minor": 4
}
